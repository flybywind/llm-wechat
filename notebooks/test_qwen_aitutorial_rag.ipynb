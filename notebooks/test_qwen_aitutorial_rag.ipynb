{
 "cells": [
  {
   "cell_type": "code",
   "execution_count": 1,
   "metadata": {},
   "outputs": [],
   "source": [
    "%reload_ext autoreload\n",
    "%autoreload 2"
   ]
  },
  {
   "cell_type": "code",
   "execution_count": 2,
   "metadata": {},
   "outputs": [
    {
     "data": {
      "text/plain": [
       "1"
      ]
     },
     "execution_count": 2,
     "metadata": {},
     "output_type": "execute_result"
    }
   ],
   "source": [
    "import sys\n",
    "from loguru import logger\n",
    "logger.remove()\n",
    "logger.add(sys.stdout, level=\"INFO\")\n",
    "# logger.remove()\n",
    "# logger.add(sys.stdout, level=\"DEBUG\")"
   ]
  },
  {
   "cell_type": "code",
   "execution_count": 3,
   "metadata": {},
   "outputs": [
    {
     "name": "stderr",
     "output_type": "stream",
     "text": [
      "USER_AGENT environment variable not set, consider setting it to identify your requests.\n",
      "[WARNING][2024-10-26 22:55:10.839] redis_rate_limiter.py:21 [t:8573500096]: no redis installed, RedisRateLimiter unavailable\n"
     ]
    }
   ],
   "source": [
    "import sys\n",
    "import os\n",
    "sys.path.insert(0, '../')\n",
    "\n",
    "from llmagent.privatestore import WebStore, WebConf\n",
    "from llmagent.secret import AK_SK\n",
    "from llmagent.llmapi import model_spec, QwenEmbedding, QwenLLM\n",
    "qw_key = AK_SK(\"../llmagent/secret/keystore/qwen.keys\")\n",
    "os.environ[\"OPENAI_API_KEY\"] = qw_key.ak\n",
    "llm = QwenLLM(model_spec=model_spec.QwenPlus, temperature=0.6)\n",
    "embedding = QwenEmbedding(api_key=qw_key.ak)\n",
    "webstore = WebStore(\"llmtutorial\", \"../vectorstore/llmtutorial_qwen\", emb_func=embedding, extra_config=WebConf(\n",
    "    root_url=\"https://aitutor.liduos.com/\",\n",
    "    limit=10,\n",
    "))"
   ]
  },
  {
   "cell_type": "code",
   "execution_count": 6,
   "metadata": {},
   "outputs": [
    {
     "name": "stderr",
     "output_type": "stream",
     "text": [
      "/Users/flybywindwen/miniconda3/envs/llm/lib/python3.11/site-packages/urllib3/connectionpool.py:1099: InsecureRequestWarning: Unverified HTTPS request is being made to host 'aitutor.liduos.com'. Adding certificate verification is strongly advised. See: https://urllib3.readthedocs.io/en/latest/advanced-usage.html#tls-warnings\n",
      "  warnings.warn(\n",
      "/Users/flybywindwen/miniconda3/envs/llm/lib/python3.11/site-packages/urllib3/connectionpool.py:1099: InsecureRequestWarning: Unverified HTTPS request is being made to host 'aitutor.liduos.com'. Adding certificate verification is strongly advised. See: https://urllib3.readthedocs.io/en/latest/advanced-usage.html#tls-warnings\n",
      "  warnings.warn(\n",
      "/Users/flybywindwen/miniconda3/envs/llm/lib/python3.11/site-packages/urllib3/connectionpool.py:1099: InsecureRequestWarning: Unverified HTTPS request is being made to host 'aitutor.liduos.com'. Adding certificate verification is strongly advised. See: https://urllib3.readthedocs.io/en/latest/advanced-usage.html#tls-warnings\n",
      "  warnings.warn(\n",
      "/Users/flybywindwen/miniconda3/envs/llm/lib/python3.11/site-packages/urllib3/connectionpool.py:1099: InsecureRequestWarning: Unverified HTTPS request is being made to host 'aitutor.liduos.com'. Adding certificate verification is strongly advised. See: https://urllib3.readthedocs.io/en/latest/advanced-usage.html#tls-warnings\n",
      "  warnings.warn(\n",
      "/Users/flybywindwen/miniconda3/envs/llm/lib/python3.11/site-packages/urllib3/connectionpool.py:1099: InsecureRequestWarning: Unverified HTTPS request is being made to host 'aitutor.liduos.com'. Adding certificate verification is strongly advised. See: https://urllib3.readthedocs.io/en/latest/advanced-usage.html#tls-warnings\n",
      "  warnings.warn(\n",
      "/Users/flybywindwen/miniconda3/envs/llm/lib/python3.11/site-packages/urllib3/connectionpool.py:1099: InsecureRequestWarning: Unverified HTTPS request is being made to host 'aitutor.liduos.com'. Adding certificate verification is strongly advised. See: https://urllib3.readthedocs.io/en/latest/advanced-usage.html#tls-warnings\n",
      "  warnings.warn(\n",
      "/Users/flybywindwen/miniconda3/envs/llm/lib/python3.11/site-packages/urllib3/connectionpool.py:1099: InsecureRequestWarning: Unverified HTTPS request is being made to host 'aitutor.liduos.com'. Adding certificate verification is strongly advised. See: https://urllib3.readthedocs.io/en/latest/advanced-usage.html#tls-warnings\n",
      "  warnings.warn(\n",
      "/Users/flybywindwen/miniconda3/envs/llm/lib/python3.11/site-packages/urllib3/connectionpool.py:1099: InsecureRequestWarning: Unverified HTTPS request is being made to host 'aitutor.liduos.com'. Adding certificate verification is strongly advised. See: https://urllib3.readthedocs.io/en/latest/advanced-usage.html#tls-warnings\n",
      "  warnings.warn(\n",
      "/Users/flybywindwen/miniconda3/envs/llm/lib/python3.11/site-packages/urllib3/connectionpool.py:1099: InsecureRequestWarning: Unverified HTTPS request is being made to host 'aitutor.liduos.com'. Adding certificate verification is strongly advised. See: https://urllib3.readthedocs.io/en/latest/advanced-usage.html#tls-warnings\n",
      "  warnings.warn(\n",
      "/Users/flybywindwen/miniconda3/envs/llm/lib/python3.11/site-packages/urllib3/connectionpool.py:1099: InsecureRequestWarning: Unverified HTTPS request is being made to host 'aitutor.liduos.com'. Adding certificate verification is strongly advised. See: https://urllib3.readthedocs.io/en/latest/advanced-usage.html#tls-warnings\n",
      "  warnings.warn(\n",
      "/Users/flybywindwen/miniconda3/envs/llm/lib/python3.11/site-packages/urllib3/connectionpool.py:1099: InsecureRequestWarning: Unverified HTTPS request is being made to host 'aitutor.liduos.com'. Adding certificate verification is strongly advised. See: https://urllib3.readthedocs.io/en/latest/advanced-usage.html#tls-warnings\n",
      "  warnings.warn(\n",
      "/Users/flybywindwen/miniconda3/envs/llm/lib/python3.11/site-packages/urllib3/connectionpool.py:1099: InsecureRequestWarning: Unverified HTTPS request is being made to host 'aitutor.liduos.com'. Adding certificate verification is strongly advised. See: https://urllib3.readthedocs.io/en/latest/advanced-usage.html#tls-warnings\n",
      "  warnings.warn(\n",
      "/Users/flybywindwen/miniconda3/envs/llm/lib/python3.11/site-packages/urllib3/connectionpool.py:1099: InsecureRequestWarning: Unverified HTTPS request is being made to host 'aitutor.liduos.com'. Adding certificate verification is strongly advised. See: https://urllib3.readthedocs.io/en/latest/advanced-usage.html#tls-warnings\n",
      "  warnings.warn(\n",
      "/Users/flybywindwen/miniconda3/envs/llm/lib/python3.11/site-packages/urllib3/connectionpool.py:1099: InsecureRequestWarning: Unverified HTTPS request is being made to host 'aitutor.liduos.com'. Adding certificate verification is strongly advised. See: https://urllib3.readthedocs.io/en/latest/advanced-usage.html#tls-warnings\n",
      "  warnings.warn(\n",
      "/Users/flybywindwen/miniconda3/envs/llm/lib/python3.11/site-packages/urllib3/connectionpool.py:1099: InsecureRequestWarning: Unverified HTTPS request is being made to host 'aitutor.liduos.com'. Adding certificate verification is strongly advised. See: https://urllib3.readthedocs.io/en/latest/advanced-usage.html#tls-warnings\n",
      "  warnings.warn(\n",
      "/Users/flybywindwen/miniconda3/envs/llm/lib/python3.11/site-packages/urllib3/connectionpool.py:1099: InsecureRequestWarning: Unverified HTTPS request is being made to host 'aitutor.liduos.com'. Adding certificate verification is strongly advised. See: https://urllib3.readthedocs.io/en/latest/advanced-usage.html#tls-warnings\n",
      "  warnings.warn(\n",
      "/Users/flybywindwen/miniconda3/envs/llm/lib/python3.11/site-packages/urllib3/connectionpool.py:1099: InsecureRequestWarning: Unverified HTTPS request is being made to host 'aitutor.liduos.com'. Adding certificate verification is strongly advised. See: https://urllib3.readthedocs.io/en/latest/advanced-usage.html#tls-warnings\n",
      "  warnings.warn(\n",
      "/Users/flybywindwen/miniconda3/envs/llm/lib/python3.11/site-packages/urllib3/connectionpool.py:1099: InsecureRequestWarning: Unverified HTTPS request is being made to host 'aitutor.liduos.com'. Adding certificate verification is strongly advised. See: https://urllib3.readthedocs.io/en/latest/advanced-usage.html#tls-warnings\n",
      "  warnings.warn(\n",
      "/Users/flybywindwen/miniconda3/envs/llm/lib/python3.11/site-packages/urllib3/connectionpool.py:1099: InsecureRequestWarning: Unverified HTTPS request is being made to host 'aitutor.liduos.com'. Adding certificate verification is strongly advised. See: https://urllib3.readthedocs.io/en/latest/advanced-usage.html#tls-warnings\n",
      "  warnings.warn(\n",
      "/Users/flybywindwen/miniconda3/envs/llm/lib/python3.11/site-packages/urllib3/connectionpool.py:1099: InsecureRequestWarning: Unverified HTTPS request is being made to host 'aitutor.liduos.com'. Adding certificate verification is strongly advised. See: https://urllib3.readthedocs.io/en/latest/advanced-usage.html#tls-warnings\n",
      "  warnings.warn(\n",
      "/Users/flybywindwen/miniconda3/envs/llm/lib/python3.11/site-packages/urllib3/connectionpool.py:1099: InsecureRequestWarning: Unverified HTTPS request is being made to host 'aitutor.liduos.com'. Adding certificate verification is strongly advised. See: https://urllib3.readthedocs.io/en/latest/advanced-usage.html#tls-warnings\n",
      "  warnings.warn(\n",
      "/Users/flybywindwen/miniconda3/envs/llm/lib/python3.11/site-packages/urllib3/connectionpool.py:1099: InsecureRequestWarning: Unverified HTTPS request is being made to host 'aitutor.liduos.com'. Adding certificate verification is strongly advised. See: https://urllib3.readthedocs.io/en/latest/advanced-usage.html#tls-warnings\n",
      "  warnings.warn(\n",
      "/Users/flybywindwen/miniconda3/envs/llm/lib/python3.11/site-packages/urllib3/connectionpool.py:1099: InsecureRequestWarning: Unverified HTTPS request is being made to host 'aitutor.liduos.com'. Adding certificate verification is strongly advised. See: https://urllib3.readthedocs.io/en/latest/advanced-usage.html#tls-warnings\n",
      "  warnings.warn(\n",
      "/Users/flybywindwen/miniconda3/envs/llm/lib/python3.11/site-packages/urllib3/connectionpool.py:1099: InsecureRequestWarning: Unverified HTTPS request is being made to host 'aitutor.liduos.com'. Adding certificate verification is strongly advised. See: https://urllib3.readthedocs.io/en/latest/advanced-usage.html#tls-warnings\n",
      "  warnings.warn(\n",
      "/Users/flybywindwen/miniconda3/envs/llm/lib/python3.11/site-packages/urllib3/connectionpool.py:1099: InsecureRequestWarning: Unverified HTTPS request is being made to host 'aitutor.liduos.com'. Adding certificate verification is strongly advised. See: https://urllib3.readthedocs.io/en/latest/advanced-usage.html#tls-warnings\n",
      "  warnings.warn(\n",
      "/Users/flybywindwen/miniconda3/envs/llm/lib/python3.11/site-packages/urllib3/connectionpool.py:1099: InsecureRequestWarning: Unverified HTTPS request is being made to host 'aitutor.liduos.com'. Adding certificate verification is strongly advised. See: https://urllib3.readthedocs.io/en/latest/advanced-usage.html#tls-warnings\n",
      "  warnings.warn(\n",
      "/Users/flybywindwen/miniconda3/envs/llm/lib/python3.11/site-packages/urllib3/connectionpool.py:1099: InsecureRequestWarning: Unverified HTTPS request is being made to host 'aitutor.liduos.com'. Adding certificate verification is strongly advised. See: https://urllib3.readthedocs.io/en/latest/advanced-usage.html#tls-warnings\n",
      "  warnings.warn(\n",
      "/Users/flybywindwen/miniconda3/envs/llm/lib/python3.11/site-packages/urllib3/connectionpool.py:1099: InsecureRequestWarning: Unverified HTTPS request is being made to host 'aitutor.liduos.com'. Adding certificate verification is strongly advised. See: https://urllib3.readthedocs.io/en/latest/advanced-usage.html#tls-warnings\n",
      "  warnings.warn(\n",
      "/Users/flybywindwen/miniconda3/envs/llm/lib/python3.11/site-packages/urllib3/connectionpool.py:1099: InsecureRequestWarning: Unverified HTTPS request is being made to host 'aitutor.liduos.com'. Adding certificate verification is strongly advised. See: https://urllib3.readthedocs.io/en/latest/advanced-usage.html#tls-warnings\n",
      "  warnings.warn(\n",
      "/Users/flybywindwen/miniconda3/envs/llm/lib/python3.11/site-packages/urllib3/connectionpool.py:1099: InsecureRequestWarning: Unverified HTTPS request is being made to host 'aitutor.liduos.com'. Adding certificate verification is strongly advised. See: https://urllib3.readthedocs.io/en/latest/advanced-usage.html#tls-warnings\n",
      "  warnings.warn(\n",
      "/Users/flybywindwen/miniconda3/envs/llm/lib/python3.11/site-packages/urllib3/connectionpool.py:1099: InsecureRequestWarning: Unverified HTTPS request is being made to host 'aitutor.liduos.com'. Adding certificate verification is strongly advised. See: https://urllib3.readthedocs.io/en/latest/advanced-usage.html#tls-warnings\n",
      "  warnings.warn(\n",
      "/Users/flybywindwen/miniconda3/envs/llm/lib/python3.11/site-packages/urllib3/connectionpool.py:1099: InsecureRequestWarning: Unverified HTTPS request is being made to host 'aitutor.liduos.com'. Adding certificate verification is strongly advised. See: https://urllib3.readthedocs.io/en/latest/advanced-usage.html#tls-warnings\n",
      "  warnings.warn(\n",
      "/Users/flybywindwen/miniconda3/envs/llm/lib/python3.11/site-packages/urllib3/connectionpool.py:1099: InsecureRequestWarning: Unverified HTTPS request is being made to host 'aitutor.liduos.com'. Adding certificate verification is strongly advised. See: https://urllib3.readthedocs.io/en/latest/advanced-usage.html#tls-warnings\n",
      "  warnings.warn(\n",
      "/Users/flybywindwen/miniconda3/envs/llm/lib/python3.11/site-packages/urllib3/connectionpool.py:1099: InsecureRequestWarning: Unverified HTTPS request is being made to host 'aitutor.liduos.com'. Adding certificate verification is strongly advised. See: https://urllib3.readthedocs.io/en/latest/advanced-usage.html#tls-warnings\n",
      "  warnings.warn(\n",
      "/Users/flybywindwen/miniconda3/envs/llm/lib/python3.11/site-packages/urllib3/connectionpool.py:1099: InsecureRequestWarning: Unverified HTTPS request is being made to host 'aitutor.liduos.com'. Adding certificate verification is strongly advised. See: https://urllib3.readthedocs.io/en/latest/advanced-usage.html#tls-warnings\n",
      "  warnings.warn(\n",
      "/Users/flybywindwen/miniconda3/envs/llm/lib/python3.11/site-packages/urllib3/connectionpool.py:1099: InsecureRequestWarning: Unverified HTTPS request is being made to host 'aitutor.liduos.com'. Adding certificate verification is strongly advised. See: https://urllib3.readthedocs.io/en/latest/advanced-usage.html#tls-warnings\n",
      "  warnings.warn(\n",
      "/Users/flybywindwen/miniconda3/envs/llm/lib/python3.11/site-packages/urllib3/connectionpool.py:1099: InsecureRequestWarning: Unverified HTTPS request is being made to host 'aitutor.liduos.com'. Adding certificate verification is strongly advised. See: https://urllib3.readthedocs.io/en/latest/advanced-usage.html#tls-warnings\n",
      "  warnings.warn(\n",
      "/Users/flybywindwen/miniconda3/envs/llm/lib/python3.11/site-packages/urllib3/connectionpool.py:1099: InsecureRequestWarning: Unverified HTTPS request is being made to host 'aitutor.liduos.com'. Adding certificate verification is strongly advised. See: https://urllib3.readthedocs.io/en/latest/advanced-usage.html#tls-warnings\n",
      "  warnings.warn(\n",
      "/Users/flybywindwen/miniconda3/envs/llm/lib/python3.11/site-packages/urllib3/connectionpool.py:1099: InsecureRequestWarning: Unverified HTTPS request is being made to host 'aitutor.liduos.com'. Adding certificate verification is strongly advised. See: https://urllib3.readthedocs.io/en/latest/advanced-usage.html#tls-warnings\n",
      "  warnings.warn(\n",
      "/Users/flybywindwen/miniconda3/envs/llm/lib/python3.11/site-packages/urllib3/connectionpool.py:1099: InsecureRequestWarning: Unverified HTTPS request is being made to host 'aitutor.liduos.com'. Adding certificate verification is strongly advised. See: https://urllib3.readthedocs.io/en/latest/advanced-usage.html#tls-warnings\n",
      "  warnings.warn(\n",
      "/Users/flybywindwen/miniconda3/envs/llm/lib/python3.11/site-packages/urllib3/connectionpool.py:1099: InsecureRequestWarning: Unverified HTTPS request is being made to host 'aitutor.liduos.com'. Adding certificate verification is strongly advised. See: https://urllib3.readthedocs.io/en/latest/advanced-usage.html#tls-warnings\n",
      "  warnings.warn(\n",
      "/Users/flybywindwen/miniconda3/envs/llm/lib/python3.11/site-packages/urllib3/connectionpool.py:1099: InsecureRequestWarning: Unverified HTTPS request is being made to host 'aitutor.liduos.com'. Adding certificate verification is strongly advised. See: https://urllib3.readthedocs.io/en/latest/advanced-usage.html#tls-warnings\n",
      "  warnings.warn(\n"
     ]
    },
    {
     "name": "stdout",
     "output_type": "stream",
     "text": [
      "\u001b[32m2024-10-26 21:54:47.687\u001b[0m | \u001b[1mINFO    \u001b[0m | \u001b[36mllmagent.privatestore.base\u001b[0m:\u001b[36m__load__\u001b[0m:\u001b[36m51\u001b[0m - \u001b[1mAdding documents 0 to 256\u001b[0m\n",
      "\u001b[32m2024-10-26 21:55:04.689\u001b[0m | \u001b[1mINFO    \u001b[0m | \u001b[36mllmagent.privatestore.base\u001b[0m:\u001b[36m__load__\u001b[0m:\u001b[36m51\u001b[0m - \u001b[1mAdding documents 256 to 512\u001b[0m\n",
      "\u001b[32m2024-10-26 21:55:20.084\u001b[0m | \u001b[1mINFO    \u001b[0m | \u001b[36mllmagent.privatestore.base\u001b[0m:\u001b[36m__load__\u001b[0m:\u001b[36m51\u001b[0m - \u001b[1mAdding documents 512 to 768\u001b[0m\n",
      "\u001b[32m2024-10-26 21:55:32.399\u001b[0m | \u001b[1mINFO    \u001b[0m | \u001b[36mllmagent.privatestore.base\u001b[0m:\u001b[36m__load__\u001b[0m:\u001b[36m51\u001b[0m - \u001b[1mAdding documents 768 to 1024\u001b[0m\n",
      "\u001b[32m2024-10-26 21:55:46.842\u001b[0m | \u001b[1mINFO    \u001b[0m | \u001b[36mllmagent.privatestore.base\u001b[0m:\u001b[36m__load__\u001b[0m:\u001b[36m51\u001b[0m - \u001b[1mAdding documents 1024 to 1280\u001b[0m\n",
      "\u001b[32m2024-10-26 21:56:03.868\u001b[0m | \u001b[1mINFO    \u001b[0m | \u001b[36mllmagent.privatestore.base\u001b[0m:\u001b[36m__load__\u001b[0m:\u001b[36m51\u001b[0m - \u001b[1mAdding documents 1280 to 1536\u001b[0m\n"
     ]
    }
   ],
   "source": [
    "# webstore.reload()"
   ]
  },
  {
   "cell_type": "code",
   "execution_count": 5,
   "metadata": {},
   "outputs": [
    {
     "data": {
      "text/plain": [
       "1393"
      ]
     },
     "execution_count": 5,
     "metadata": {},
     "output_type": "execute_result"
    }
   ],
   "source": [
    "webstore.collection_count()"
   ]
  },
  {
   "cell_type": "code",
   "execution_count": 4,
   "metadata": {},
   "outputs": [
    {
     "data": {
      "text/plain": [
       "'作者：莫尔索 (https://liduos.com/about)     前言 (../)    关注《莫尔索随笔》 (https://liduos.com/wxqcode.png)    大语言模型概述    大语言模型概况 (01-1.html)    你好, ChatGPT (01-2.html)    OpenAI 文档解读 (01-3.html)    动手实现聊天机器人 (01-4.html)    基于 OpenAI API 搭建一个端到端问答系统 (01-5.html)    LLM 安全专题 (01-6.html)      LangChain入门    LangChain介绍 (../02-langchain/02-1.html)    LangChain模块学习 (../02-langchain/02-2.html)    LangChain之Chains模块 (../02-langchain/02-2-1.html)    LangChain之Agents模块 (../02-langchain/02-2-2.html)    LangChain之Callback模块 (../02-langchain/02-2-3.html)    Embedding嵌入 (../02-langchain/02-3.html)    动手实现文档问答机器人 (../02-langchain/02-4.html)      LlamaIndex 概述    LlamaIndex介绍 (../03-llamaIndex/03-1.html)    LlamaIndex索引 (../03-llamaIndex/03-2.html)    动手实现企业知识库 (../03-llamaIndex/03-3.html)      HuggingGPT 实现    HuggingFace 介绍 (../04-huggingface/04-1.html)    transformers 库基础组件 (../04-huggingface/04-2.html)    多模态任务设计 (../04-huggingface/04-3.html)    动手实现 HuggingGPT (../04-huggingface/04-4.html)      LLMOps 专题    LLMOps 介绍 (../06-llmops/06-1.html)    Model 模型层 (../06-llmops/06-2.html)    Prompt 提示层 (../06-llmops/06-3.html)    狭义LLMOps (../06-llmops/06-4.html)      Agent 专题    Agent 介绍 (../07-agents/07-1.html)    Agent 项目跟踪 (../07-agents/07-2.html)    Multi-Agent 系统 (../07-agents/07-3.html)      RAG专题    数据索引环节 (../08-rag/08-1.html)    检索环节 (../08-rag/08-2.html)    生成环节 (../08-rag/08-3.html)      LLM 应用评估与测试    如何评估一个大语言模型 (../09-llm-evelation-test/09-1.html)    基于大模型的Agent进行测试评估 (../09-llm-evelation-test/09-2.html)    RAG系统效果评估 (../09-llm-evelation-test/09-3.html)      国内模型厂商API解读    六家大模型能力比较 (../10-china-llm/10-01.html)    MiniMax大模型开发 (../10-china-llm/10-02.html)    智谱AI大模型开发 (../10-china-llm/10-03.html)    MoonShot大模型开发 (../10-china-llm/10-04.html)      基于大型语言模型的生成式AI    课程介绍 (../05-generative-ai-with-llms/05-1.html)      参考资料    A16Z推荐的AI学习清单 (../ref/a16z.html)    Prompt专题 (../ref/prompt.html)    一些课程资料汇总 (../ref/ref.html)       本书使用 GitBook 发布 (https://www.gitbook.com)         Title    你好, ChatGPT (..)         本电子书开源，欢迎 star 🌟，关注《LLM 应用开发实践笔记》  我的新书 《LangChain编程从入门到实践》 (https://u.jd.com/V8pkqFY) 已经开售！推荐正在学习AI应用开发的朋友购买阅读！   你好, ChatGPT  ChatGPT 是OpenAI开发的人工智能聊天机器人程序，于2022年11月推出。该程序使用基于 GPT-3.5、GPT-4 架构的大语言模型并以强化学习训练。ChatGPT目前仍以文字方式交互，而除了可以用人类自然对话方式来交互，还可以用于甚为复杂的语言工作，包括自动生成文本、自动问答、自动摘要等多种任务。  ChatGPT的诞生  演进过程   在 2020 年 7 月 ，OpenAI 发布了模型名称为的 davinci 的初代 GPT-3  在 2021 年 7 月 ，Codex 的论文发布，其中初始的 Codex 是根据 120 亿参数的 GPT-3 变体进行微调的。后来这个 120 亿参数的模型演变成 OpenAI API 中的 code-cushman-001  在 2022 年 3 月 ，OpenAI 发布了指令微调 (instruction tuning) 的论文，其监督微调 (supervised instruction tuning) 的部分对应了 davinci-instruct-beta 和 text-davinci-001  在 2022 年 4 月至 7 月的 ，OpenAI 开始对 code-davinci-002 模型进行 Beta 测试，也称其为 Codex   text-davinci-002 、 text-davinci-003 和 ChatGPT 都是从 code-davinci-002 进行指令微调得到的。详细信息请参阅 OpenAI的模型索引文档 (https://platform.openai.com/docs/model-index-for-researchers)   2022 年 5-6 月 发布的 text-davinci-002 是一个基于 code-davinci-002 的有监督指令微调 (supervised instruction tuned) 模型。在 text-davinci-002 上面进行 指令微调 很可能降低了模型的上下文学习能力，但是增强了模型的零样本能力。  text-davinci-003 和 ChatGPT ，它们都在 2022 年 11 月 发布，是使用的基于人类反馈的强化学习的版本指令微调 (instruction tuning with reinforcement learning from human feedback) 模型的两种不同变体。 text-davinci-003 恢复了（但仍然比 code-davinci-002 差）一些在 text-davinci-002 中丢失的部分上下文学习能力，并进一步改进了零样本能力（得益于RLHF）。另一方面，ChatGPT 似乎牺牲了几乎所有的上下文学习的能力来换取建模对话历史的能力。    总结   语言生成能力 + 基础世界知识 + 上下文学习都是来自于预训练（ davinci ）  存储大量知识的能力来自 1750 亿的参数量  遵循指令和泛化到新任务的能力来自于扩大指令学习中指令的数量（ davinci-instruct-beta ）  执行复杂推理的能力很可能来自于代码训练（ code-davinci-002 ）  生成中立、客观的能力、安全和翔实的答案来自与人类的对齐。具体来说：  如果是监督学习版，得到的模型是 text-davinci-002  如果是强化学习版 (RLHF) ，得到的模型是 text-davinci-003  无论是有监督还是 RLHF ，模型在很多任务的性能都无法超过 code-davinci-002 ，这种因为对齐而造成性能衰退的现象叫做对齐税。    对话能力也来自于 RLHF（ ChatGPT ），具体来说它牺牲了上下文学习的能力，来换取：  建模对话历史  增加对话信息量  拒绝模型知识范围之外的问题     训练  训练有四个主要阶段：预训练、有监督微调、奖励建模、强化学习  Pretraining 预训练   数据收集：CommonCrawl，C4也是common crawl，然后还有一些高质量的数据集，例如GitHub、维基百科、书籍、ArXiv论文存档、StackExchange问答网站等，这些都混合在一起，然后根据给定的比例进行采样。  标记化（tokenization）：标记化是文本片段和标记与整数之间的一种无损转换，是将互联网上抓取的原始文本翻译成整数序列。  训练过程，可以查观看这个视频进行了解 (https://www.bilibili.com/video/BV1ts4y1T7UH/?share_source=copy_web&vd_source=0b5a0297824b7741bbe169c01f734989&t=353)   Supervised Finetuning 监督微调   假设已经有了一个非常聪明的学生（即GPT-3模型），他已经学会了很多知识，并且可以在各种不同的主题上写文章。但是想让他专注于某个特定的主题，并且写出更好的文章。这就需要使用监督微调技术来让他集中精力并提高他在这个特定主题上的表现。  可以使用一个新的数据集来让这个学生熟悉这个领域的特定要求。例如为他提供一些示例文章，这些文章符合这个领域的要求，并让他通过学习这些文章来了解这个领域的特点和要求。这就像在学习一门新的科目时，我们需要先了解这门科目的基本概念和原理，然后通过实践来巩固这些知识。  一旦这位学生掌握了这个领域的基础知识，就可以开始进行实践并进行监督微调。可以让他写一些文章，并根据这些文章的质量来指导他的学习和进一步的改进。这就像在学习一门新的科目时，需要不断地进行实践和练习，以巩固我们的知识并提高我们的技能水平。最终，通过不断的实践和练习，这位学生将能够在这个特定的领域中表现出色，并写出符合要求的文章。   Reward Modeling 奖励建模   将奖励建模类比为让聪明的学生（即GPT-3模型）学习一门新的技能，例如学习打篮球。在学习打篮球的过程中，可以将得分作为奖励信号，以评估学生的表现。首先需要告诉学生如何打篮球，例如传球、投篮、防守等基本技能。这就像在奖励建模中，我们需要提供一些示例，以便模型可以了解任务的要求。  然后可以让学生在训练场上进行练习，并根据他们的表现来给予奖励。例如，如果学生成功投篮得分，我们可以给予他们一定的奖励分数。这就像在奖励建模中，可以根据模型的表现来生成奖励信号。如果模型成功完成任务，例如正确地回答问题或生成准确的文本，可以给予它一定的奖励分数。  通过不断的练习和奖励，学生将学会如何打篮球，并且在比赛中表现出色。同样地，通过奖励建模技术，我们可以训练GPT-3模型在特定任务中表现出色，并生成符合要求的文本。通过最大化奖励信号，模型可以学习如何有效地完成任务，并不断改进自己的表现。   Reinforcement Learning 强化学习   奖励建模的例子中，将奖励信号定义为每次得分的分数。如果聪明的学生成功地将篮球投入篮筐，给予它一定数量的分数；如果它没有得分，那么不给予它分数。在奖励建模中，可以使用这些分数作为奖励信号，来训练模型。我们的目标是最大化总得分，因为总得分是我们想要优化的目标函数。  强化学习中需要定义状态空间、行动空间和奖励函数，以让聪明的学生了解任务的要求。状态空间可以包括学生的位置、篮球的位置和篮筐的位置等信息，行动空间可以包括传球、投篮、防守等动作，奖励函数可以根据得分、失误、防守成功等情况来定义。然后让聪明的学生与环境交互，并根据当前状态和策略采取行动，并从环境中获得奖励或惩罚信号，聪明的学生可以不断更新策略，以最大化长期奖励，即总得分。  奖励建模使用奖励信号来指导模型的优化方向，而强化学习使用奖励信号来指导模型的行动选择。   特点   作为辅助工具，并与人工监督结合起来，在不注重可靠性和安全性的应用程序中使用  可以编写和调试计算机程序  具备创作音乐、电视剧、童话故事和学生论文的能力  ChatGPT 能够记住与用户之前的对话内容和给它的提示  可以回答测试问题（在某些测试情境下，水平甚至高于普通人类测试者）  ChatGPT 输入内容会由审核API过滤，以减少生成冒犯言论   局限   人工智能幻觉 (https://zh.wikipedia.org/zh-sg/%E5%B9%BB%E8%A7%89_%E4%BA%BA%E5%B7%A5%E6%99%BA%E8%83%BD) ：有时会写出看似合理但不正确或荒谬的答案  古德哈特定律 (https://zh.wikipedia.org/zh-sg/%E5%8F%A4%E5%BE%B7%E5%93%88%E7%89%B9%E5%AE%9A%E5%BE%8B) ：奖励模型围绕人类监督而设计，可能导致过度优化，从而影响性能  意识形态偏见：研究表明，ChatGPT对两个投票建议应用程序的政治声明表明立场时，表现出亲环境主义。   参考链接   对GPT系列模型能力的溯源 (https://yaofu.notion.site/How-does-GPT-Obtain-its-Ability-Tracing-Emergent-Abilities-of-Language-Models-to-their-Sources-b9a57ac0fcf74f30a1ab9e3e36fa1dc1) ：详细分析OpenAI各个模型的演进关系，对理解OpenAI中各个模型API能力及ChatGPT发展历史很有帮助  State of GPT (https://build.microsoft.com/en-US/sessions/db3f4859-cd30-4445-a0cd-553c3304f8e2) ：大神Andrej揭秘OpenAI大模型原理和训练过程  ChatGPT (https://zh.wikipedia.org/zh-sg/ChatGPT#cite_note-CNNInfo-29) ：维基百科ChatGPT词条       results matching \" \"     No results matching \" \"         (01-1.html)  (01-1.html)   (01-3.html)  (01-3.html)'"
      ]
     },
     "execution_count": 4,
     "metadata": {},
     "output_type": "execute_result"
    }
   ],
   "source": [
    "webstore._documents['https://aitutor.liduos.com/01-llm/01-2.html'].page_content"
   ]
  },
  {
   "cell_type": "markdown",
   "metadata": {},
   "source": [
    "## 构建Prompt"
   ]
  },
  {
   "cell_type": "code",
   "execution_count": 5,
   "metadata": {},
   "outputs": [],
   "source": [
    "from llmagent.chain import QAWithContextChain, TemplateConf\n",
    "prompt = QAWithContextChain(llm=llm, \n",
    "                               vectorstore=webstore.vectorstore(),\n",
    "                               conf=TemplateConf(context_num=10, history_num=3))"
   ]
  },
  {
   "cell_type": "code",
   "execution_count": 6,
   "metadata": {},
   "outputs": [
    {
     "name": "stdout",
     "output_type": "stream",
     "text": [
      "在LangChain中，提示词管理是一项重要的功能，它帮助确保与大语言模型（LLMs）交互时的输入能够灵活且结构化。以下是一些关键点：\n",
      "\n",
      "-**提示模板**：这是创建动态提示词的基础。通过定义一个包含变量的模板，可以在运行时插入具体的值，从而生成个性化的提示词。例如，`PromptTemplate`类允许你指定`input_variables`和 `template`字段来构建这样的模板。```pythonfrom langchain importPromptTemplate# 没有输入变量的简单提示no_input_prompt =PromptTemplate(input_variables=[], template=\"Tellme a joke.\")print(no_input_prompt.format())# 包含一个输入变量的提示\n",
      "  one_input_prompt = PromptTemplate(input_variables=[\"adjective\"], template=\"Tell me a{adjective}joke.\")\n",
      "  print(one_input_prompt.format(adjective=\"funny\"))\n",
      "  ```\n",
      "\n",
      "- **动态提示词**：结合提示模板和变量，可以实现高度定制化的提示词生成。这不仅提高了灵活性，还保证了提示词内容的结构一致性。\n",
      "\n",
      "- **少样本提示模板（FewShotPromptTemplate）**：这种模板用于提供少量示例给模型，以便模型能够在特定上下文中更好地理解任务要求。\n",
      "\n",
      "- **特征存储关联（FeaturePromptTemplate）**：将提示词与特征存储相结合，可以从数据源动态提取提示词，适用于需要实时更新提示内容的场景。\n",
      "\n",
      "- **防御性措施**：由于提示注入攻击的存在，合理地管理和验证提示词是非常必要的。可以通过设置默认值、限制输入长度等方式减少潜在风险。\n",
      "\n",
      "更多关于如何设计有效提示词的信息，可以参考[Prompt专题](https://aitutor.liduos.com/ref/prompt.html)。此外，为了深入了解提示工程的最佳实践，推荐查阅 [Prompt EngineeringGuide](https://www.promptingguide.ai/zh)和 [Learning Prompt](https://learnprompting.org/zh-Hans/docs/intro)等资源。\n",
      "\n",
      "source: https://aitutor.liduos.com/02-langchain/02-2.html, https://aitutor.liduos.com/01-llm/01-6.html,https://aitutor.liduos.com/ref/prompt.html"
     ]
    }
   ],
   "source": [
    "import time\n",
    "ans = prompt.stream(\"langchain提示词管理\")\n",
    "for token in ans:\n",
    "    for c in token:\n",
    "        print(c, end=\"\")\n",
    "    "
   ]
  },
  {
   "cell_type": "markdown",
   "metadata": {},
   "source": []
  },
  {
   "cell_type": "code",
   "execution_count": 7,
   "metadata": {},
   "outputs": [
    {
     "name": "stdout",
     "output_type": "stream",
     "text": [
      "在LangChain中，回调管理器（Callback Manager）是用于处理来自大语言模型（LLM）应用程序各个阶段的事件的重要组件。它支持日志记录、监控、流式处理等功能，有助于解决LLM的幻觉问题。下面是使用回调管理器的基本步骤：\n",
      "\n",
      "1. **定义回调处理器**：首先，你需要定义一个或多个回调处理器。这些处理器继承自`BaseCallbackHandler`基类，并重写其方法以实现特定的功能。例如，你可以创建一个用于记录日志的回调处理器。\n",
      "\n",
      "   ```pythonfrom langchain.callbacks.base importBaseCallbackHandlerclass MyLogger(BaseCallbackHandler):def on_llm_start(self,serialized: Dict[str, Any], prompts: List[str],**kwargs: Any) -> Any:print(\"LLM started with prompts:\", prompts)```\n",
      "\n",
      "2.**创建回调管理器实例**：接下来，创建一个回调管理器实例，并将你的回调处理器添加进去。LangChain提供了同步和异步两种类型的回调管理器，分别是`CallbackManager`和`AsyncCallbackManager`。\n",
      "\n",
      "   ```pythonfrom langchain.callbacks.manager importCallbackManagercallback_manager = CallbackManager([MyLogger()])\n",
      "   ```3. **在链或模型中使用回调管理器**：最后，在创建链（Chain）或调用语言模型时，将回调管理器传递给它们。这样，当执行相应的操作时，就会触发你定义的回调函数。```pythonfrom langchain.chains.base importChain\n",
      "   fromlangchain.prompts.base import BasePromptTemplate\n",
      "   fromlangchain.llmsimport OpenAIclass MyCustomChain(Chain):prompt: BasePromptTemplatellm: BaseLanguageModeloutput_key: str= \"text\"def _call(self, inputs:Dict[str, str], run_manager:Optional[CallbackManagerForChainRun]= None) ->Dict[str, str]:\n",
      "           prompt_value= self.prompt.format_prompt(**inputs)response = self.llm.generate_prompt(\n",
      "               [prompt_value],\n",
      "               callbacks=run_manager.get_child() if run_manager else None)\n",
      "           return{self.output_key: response}my_chain = MyCustomChain(prompt=no_input_prompt, llm=OpenAI(), callback_manager=callback_manager)result = my_chain({\"input\": \"some input\"})```\n",
      "\n",
      "通过上述步骤，你就可以在LangChain的应用程序中有效地利用回调管理器来增强功能性和可维护性了。source: https://aitutor.liduos.com/02-langchain/02-2-3.html,https://aitutor.liduos.com/02-langchain/02-2-1.html"
     ]
    }
   ],
   "source": [
    "ans = prompt.stream(\"langchain回调管理器如何使用\")\n",
    "for token in ans:\n",
    "    for c in token:\n",
    "        print(c, end=\"\")"
   ]
  },
  {
   "cell_type": "code",
   "execution_count": 38,
   "metadata": {},
   "outputs": [],
   "source": [
    "prompt.conf.history_num=2"
   ]
  },
  {
   "cell_type": "code",
   "execution_count": 9,
   "metadata": {},
   "outputs": [
    {
     "data": {
      "text/plain": [
       "'langchain提示词管理\\nlangchain回调管理器如何使用'"
      ]
     },
     "execution_count": 9,
     "metadata": {},
     "output_type": "execute_result"
    }
   ],
   "source": [
    "prompt.get_history_wo_role()"
   ]
  },
  {
   "cell_type": "code",
   "execution_count": 10,
   "metadata": {},
   "outputs": [
    {
     "name": "stdout",
     "output_type": "stream",
     "text": [
      "除了LangChain之外，还有一些其他的ChatGPT框架和工具，它们各自具有不同的特点和优势：\n",
      "\n",
      "- **Dust.tt**：这是一个用Rust和TypeScript编写的框架，提供了简单易用的API，使开发者能够快速构建自己的LLM应用程序。它的优点在于易于上手和集成。\n",
      "\n",
      "- **其他竞品**：虽然没有具体列出名称，但市场上确实存在多个类似的工具框架，它们可能在某些方面与LangChain形成竞争，比如提供更强大的性能评估功能、更好的社区支持或者更加丰富的插件生态系统等。\n",
      "\n",
      "如果您对某个特定框架感兴趣，建议查看其官方文档或GitHub页面获取更多信息。source: https://aitutor.liduos.com/02-langchain/02-1.html"
     ]
    }
   ],
   "source": [
    "ans = prompt.stream(\"除了langchain，还有哪些ChatGPT框架\")\n",
    "for token in ans:\n",
    "    for c in token:\n",
    "        print(c, end=\"\")"
   ]
  },
  {
   "cell_type": "code",
   "execution_count": 39,
   "metadata": {},
   "outputs": [
    {
     "data": {
      "text/plain": [
       "'langchain回调管理器如何使用\\n除了langchain，还有哪些ChatGPT框架'"
      ]
     },
     "execution_count": 39,
     "metadata": {},
     "output_type": "execute_result"
    }
   ],
   "source": [
    "prompt.get_history_wo_role()"
   ]
  }
 ],
 "metadata": {
  "kernelspec": {
   "display_name": "llm-wechat",
   "language": "python",
   "name": "python3"
  },
  "language_info": {
   "codemirror_mode": {
    "name": "ipython",
    "version": 3
   },
   "file_extension": ".py",
   "mimetype": "text/x-python",
   "name": "python",
   "nbconvert_exporter": "python",
   "pygments_lexer": "ipython3",
   "version": "3.11.10"
  }
 },
 "nbformat": 4,
 "nbformat_minor": 2
}
